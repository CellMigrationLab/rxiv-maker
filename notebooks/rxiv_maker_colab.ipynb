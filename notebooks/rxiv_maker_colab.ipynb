{
 "cells": [
  {
   "cell_type": "markdown",
   "metadata": {
    "id": "cell-0"
   },
   "source": [
    "# Rxiv-Maker: Automated LaTeX Article Generation (Docker-Accelerated)\n",
    "\n",
    "This notebook allows you to run Rxiv-Maker in Google Colab using Docker containers for **significantly faster setup** and more reliable execution.\n",
    "\n",
    "**Features:**\n",
    "- Convert Markdown to LaTeX with academic formatting\n",
    "- Generate figures from Python scripts and Mermaid diagrams\n",
    "- Complete LaTeX compilation with bibliography\n",
    "- Download generated PDF and source files\n",
    "- **⚡ Fast setup**: ~4 minutes instead of ~20 minutes\n",
    "- **🔒 Reliable**: Pre-configured environment with all dependencies\n",
    "\n",
    "**What you'll need:**\n",
    "- Your manuscript in Markdown format with YAML metadata\n",
    "- Bibliography file (.bib)\n",
    "- Figure source files (Python scripts or Mermaid diagrams)\n",
    "\n",
    "**Technical Note:** This notebook uses `udocker` to run Docker containers in Google Colab. The containers are optimized for AMD64 architecture but work on all platforms via emulation when needed."
   ]
  },
  {
   "cell_type": "markdown",
   "metadata": {
    "id": "cell-1"
   },
   "source": [
    "## 🐳 Docker Setup and Installation\n",
    "\n",
    "First, let's install udocker and pull the pre-configured Rxiv-Maker container with all dependencies."
   ]
  },
  {
   "cell_type": "code",
   "execution_count": null,
   "metadata": {
    "cellView": "form",
    "id": "cell-2"
   },
   "outputs": [],
   "source": [
    "# @title Install udocker and pull Rxiv-Maker container\n",
    "print(\"🐳 Setting up Docker environment...\")\n",
    "print(\"This takes ~4 minutes instead of ~20 minutes for manual dependency installation.\")\n",
    "print(\"=\" * 70)\n",
    "\n",
    "# Install udocker (Docker alternative for Google Colab)\n",
    "print(\"📦 Installing udocker...\")\n",
    "!pip install udocker -q\n",
    "!udocker --allow-root install > /dev/null 2>&1\n",
    "\n",
    "# Pull the pre-configured Rxiv-Maker Docker image\n",
    "print(\"📥 Pulling Rxiv-Maker container (henriqueslab/rxiv-maker-base:latest)...\")\n",
    "print(\"This container includes:\")\n",
    "print(\"  - Complete LaTeX distribution (TeX Live)\")\n",
    "print(\"  - Python 3.11 with scientific libraries\")\n",
    "print(\"  - R with common packages\")\n",
    "print(\"  - Node.js 18 with Mermaid CLI\")\n",
    "print(\"  - All system dependencies\")\n",
    "\n",
    "!udocker --allow-root pull henriqueslab/rxiv-maker-base:latest\n",
    "\n",
    "# Create a container instance\n",
    "print(\"\\n🔧 Creating container instance...\")\n",
    "!udocker --allow-root create --name=rxiv-maker henriqueslab/rxiv-maker-base:latest\n",
    "\n",
    "# Install ezinput for UI components\n",
    "print(\"\\n📱 Installing UI components...\")\n",
    "!pip install ezinput -q\n",
    "\n",
    "print(\"\\n✅ Docker environment ready!\")\n",
    "print(\"Container 'rxiv-maker' created with all dependencies pre-installed.\")"
   ]
  },
  {
   "cell_type": "markdown",
   "metadata": {
    "id": "cell-3"
   },
   "source": [
    "## 💾 Choose between storing the files in current Colab Session or in your Google Drive"
   ]
  },
  {
   "cell_type": "code",
   "execution_count": null,
   "metadata": {
    "cellView": "form",
    "id": "cell-4"
   },
   "outputs": [],
   "source": [
    "#@title Where do you want to store the files?\n",
    "import os\n",
    "from ezinput import EZInput as ezi\n",
    "from IPython.display import clear_output\n",
    "from google.colab import output\n",
    "\n",
    "def print_set(options):\n",
    "  nLabels = gui._nLabels\n",
    "  gui[f\"label_{nLabels}\"].value = \"All settings saved!\"\n",
    "\n",
    "gui = ezi()\n",
    "gui.add_label(\"Do you want to save the cloned repository and generated files in Google Drive?\")\n",
    "gui.add_label(\"If not, cloned repo and files will be stored in the current Colab runtime.\")\n",
    "gui.add_check(\"in_gdrive\", description=\"Store in Google Drive?\", remember_value=True, value=False)\n",
    "gui.add_label(\"   \")\n",
    "gui.add_label(\"Type the name for the manuscript folder to be used.\")\n",
    "gui.add_label(\"If a name different from the default MANUSCRIPT folder is selected for the first time, make sure to also select 'Create new manuscript folder'.\")\n",
    "gui.add_text_area(\"man_name\", description=\"Manuscript Name:\", remember_value=True, placeholder=\"MANUSCRIPT\", value=\"MANUSCRIPT\")\n",
    "gui.add_label(\"   \")\n",
    "gui.add_label(\"Select if you are using a new name for the manuscript folder.\")\n",
    "gui.add_check(\"new_folder\", description=\"Create new manuscript folder\", remember_value=True, value=False)\n",
    "gui.add_label(\"   \")\n",
    "gui.add_label(\"Select 'Continue a previous build' to use previously created files stored in your Google Drive.\")\n",
    "gui.add_label(\"If not selected a new default folder will be created and possibly overwrite previously created files.\")\n",
    "gui.add_check(\"continue\", description=\"Continue a previous build?\", remember_value=True, value=False)\n",
    "gui.add_label(\"   \")\n",
    "gui.add_callback(\"set\", print_set, {}, description=\"Set options\")\n",
    "gui.add_label(\"   \")\n",
    "gui.show()"
   ]
  },
  {
   "cell_type": "markdown",
   "metadata": {
    "id": "cell-5"
   },
   "source": [
    "## 📥 Clone Rxiv-Maker Repository"
   ]
  },
  {
   "cell_type": "code",
   "execution_count": null,
   "metadata": {
    "cellView": "form",
    "id": "cell-6"
   },
   "outputs": [],
   "source": [
    "#@title Clone the Rxiv-Maker repository to access the processing scripts and templates.\n",
    "import os\n",
    "import shutil\n",
    "\n",
    "if gui[\"in_gdrive\"].value:\n",
    "    from google.colab import drive\n",
    "    drive.mount('/content/drive')\n",
    "    PATH = \"/content/drive/MyDrive/rxiv-maker\"\n",
    "    os.environ[\"MANUSCRIPT_PATH\"] = \"drive/MyDrive/rxiv-maker\" + os.sep + gui[\"man_name\"].value\n",
    "else:\n",
    "    PATH = \"/content/rxiv-maker\"\n",
    "    os.environ[\"MANUSCRIPT_PATH\"] = \"rxiv-maker\" + os.sep + gui[\"man_name\"].value\n",
    "\n",
    "output_path = PATH + os.sep + \"output\"\n",
    "output_figures_path = PATH + os.sep + gui[\"man_name\"].value + os.sep + \"FIGURES\"\n",
    "\n",
    "if not gui[\"continue\"].value:\n",
    "  # Clone the repository\n",
    "  if os.path.exists(PATH):\n",
    "      shutil.rmtree(PATH)\n",
    "\n",
    "  !git clone https://github.com/HenriquesLab/rxiv-maker.git {PATH}\n",
    "\n",
    "  # Create output directory\n",
    "  !mkdir -p {output_path}\n",
    "  !mkdir -p {output_figures_path}\n",
    "\n",
    "  print(\"✅ Rxiv-Maker repository cloned and set up!\")\n",
    "  print(f\"Current directory: {os.getcwd()}\")\n",
    "\n",
    "  if gui[\"new_folder\"].value:\n",
    "    if os.path.exists(PATH + os.sep + gui[\"man_name\"].value):\n",
    "        shutil.rmtree(PATH + os.sep + gui[\"man_name\"].value)\n",
    "    shutil.copytree(PATH + os.sep + \"MANUSCRIPT\", PATH + os.sep + gui[\"man_name\"].value)\n",
    "  elif gui[\"man_name\"].value == \"EXAMPLE_MANUSCRIPT\":\n",
    "    pass # will use the example manuscript folder\n",
    "  else:\n",
    "    os.rename(PATH + os.sep + \"MANUSCRIPT\", PATH + os.sep + gui[\"man_name\"].value)\n",
    "\n",
    "# Install rxiv-maker in the container\n",
    "print(\"\\n📦 Installing Rxiv-Maker in container...\")\n",
    "!udocker --allow-root run -v /content:/workspace rxiv-maker bash -c \"cd /workspace{PATH.replace('/content', '')} && pip install -e . -q\"\n",
    "\n",
    "print(\"\\n✅ Repository setup completed!\")"
   ]
  },
  {
   "cell_type": "markdown",
   "metadata": {
    "id": "cell-9"
   },
   "source": [
    "## 📄 Generate PDF Article"
   ]
  },
  {
   "cell_type": "code",
   "execution_count": null,
   "metadata": {
    "cellView": "form",
    "id": "E5BoNugIZf_s"
   },
   "outputs": [],
   "source": [
    "#@title Run setup, generate figures, compile LaTeX and generate PDF\n",
    "MANUSCRIPT_FOLDER = f\"/workspace{PATH.replace('/content', '')}\" + os.sep + gui[\"man_name\"].value\n",
    "!udocker --allow-root run -v /content:/workspace rxiv-maker bash -c \"cd /workspace{PATH.replace('/content', '')} && make setup MANUSCRIPT_PATH={MANUSCRIPT_FOLDER} && make clean-figures MANUSCRIPT_PATH={MANUSCRIPT_FOLDER} && make pdf MANUSCRIPT_PATH={MANUSCRIPT_FOLDER}\""
   ]
  },
  {
   "cell_type": "markdown",
   "metadata": {
    "id": "cell-15"
   },
   "source": [
    "## 📱 Preview and Download"
   ]
  },
  {
   "cell_type": "code",
   "execution_count": null,
   "metadata": {
    "cellView": "form",
    "id": "cell-16"
   },
   "outputs": [],
   "source": [
    "#@title View the generated PDF and download all output files.\n",
    "import base64\n",
    "from IPython.display import HTML, display\n",
    "\n",
    "# Robust PDF detection - try both possible names\n",
    "primary_pdf_path = os.path.join(output_path, gui[\"man_name\"].value + \".pdf\")\n",
    "fallback_pdf_path = os.path.join(output_path, \"MANUSCRIPT.pdf\")\n",
    "\n",
    "if os.path.exists(primary_pdf_path):\n",
    "    pdf_path = primary_pdf_path\n",
    "    pdf_name = gui[\"man_name\"].value + \".pdf\"\n",
    "    print(f\"📄 PDF generated successfully using Docker: {pdf_name}\")\n",
    "elif os.path.exists(fallback_pdf_path):\n",
    "    pdf_path = fallback_pdf_path\n",
    "    pdf_name = \"MANUSCRIPT.pdf\"\n",
    "    print(f\"📄 PDF generated successfully using Docker: {pdf_name}\")\n",
    "    print(\"⚠️  Note: PDF was generated with default name instead of manuscript name\")\n",
    "else:\n",
    "    pdf_path = None\n",
    "    pdf_name = None\n",
    "    print(\"❌ PDF not found. Please check the compilation step above.\")\n",
    "    print(\"\\nAvailable files in output directory:\")\n",
    "    !ls -la {output_path}\n",
    "\n",
    "if pdf_path:\n",
    "    # Display PDF preview\n",
    "    with open(pdf_path, \"rb\") as f:\n",
    "        pdf_data = f.read()\n",
    "\n",
    "    pdf_b64 = base64.b64encode(pdf_data).decode(\"utf-8\")\n",
    "    pdf_display = f'<iframe src=\"data:application/pdf;base64,{pdf_b64}\" width=\"100%\" height=\"600px\"></iframe>'\n",
    "    display(HTML(pdf_display))\n",
    "\n",
    "    print(\"\\n\" + \"=\" * 50)\n",
    "    print(\"📥 Download your files:\")\n",
    "    print(\"Run the next cells to download the manuscript files and/or all files as a ZIP.\")\n",
    "    print(\"=\" * 50)"
   ]
  },
  {
   "cell_type": "code",
   "execution_count": null,
   "metadata": {
    "cellView": "form",
    "id": "cell-17"
   },
   "outputs": [],
   "source": [
    "#@title Download Manuscript Files\n",
    "from google.colab import files\n",
    "\n",
    "# Robust PDF detection - try both possible names\n",
    "primary_pdf_path = os.path.join(output_path, gui[\"man_name\"].value + \".pdf\")\n",
    "fallback_pdf_path = os.path.join(output_path, \"MANUSCRIPT.pdf\")\n",
    "\n",
    "if os.path.exists(primary_pdf_path):\n",
    "    pdf_path = primary_pdf_path\n",
    "    pdf_name = gui[\"man_name\"].value + \".pdf\"\n",
    "    tex_name = gui[\"man_name\"].value + \".tex\"\n",
    "elif os.path.exists(fallback_pdf_path):\n",
    "    pdf_path = fallback_pdf_path\n",
    "    pdf_name = \"MANUSCRIPT.pdf\"\n",
    "    tex_name = \"MANUSCRIPT.tex\"\n",
    "else:\n",
    "    pdf_path = None\n",
    "    pdf_name = None\n",
    "    tex_name = None\n",
    "\n",
    "# Download individual files\n",
    "print(\"Click to download individual files:\")\n",
    "print(\"-\" * 40)\n",
    "\n",
    "# Download PDF\n",
    "if pdf_path:\n",
    "    files.download(pdf_path)\n",
    "    print(f\"✅ {pdf_name} downloaded\")\n",
    "else:\n",
    "    print(\"❌ PDF not found - check compilation step\")\n",
    "\n",
    "# Download LaTeX source\n",
    "if tex_name:\n",
    "    tex_path = os.path.join(output_path, tex_name)\n",
    "    if os.path.exists(tex_path):\n",
    "        files.download(tex_path)\n",
    "        print(f\"✅ {tex_name} downloaded\")\n",
    "    else:\n",
    "        print(f\"❌ {tex_name} not found\")\n",
    "\n",
    "print(\"\\n📦 Or download everything as ZIP:\")"
   ]
  },
  {
   "cell_type": "code",
   "execution_count": null,
   "metadata": {
    "cellView": "form",
    "id": "cell-18"
   },
   "outputs": [],
   "source": [
    "#@title Download all files as a ZIP\n",
    "import datetime\n",
    "import zipfile\n",
    "\n",
    "# Create ZIP archive with all output files\n",
    "timestamp = datetime.datetime.now().strftime(\"%Y%m%d_%H%M%S\")\n",
    "zip_filename = f\"rxiv_maker_docker_output_{timestamp}.zip\"\n",
    "\n",
    "with zipfile.ZipFile(zip_filename, \"w\", zipfile.ZIP_DEFLATED) as zipf:\n",
    "    # Add all files from output directory\n",
    "    for root, dirs, files_list in os.walk(output_path):\n",
    "        for file in files_list:\n",
    "            file_path = os.path.join(root, file)\n",
    "            arcname = os.path.relpath(file_path, output_path)\n",
    "            zipf.write(file_path, arcname)\n",
    "            print(f\"📁 Added to ZIP: {arcname}\")\n",
    "\n",
    "print(f\"\\n✅ Created ZIP archive: {zip_filename}\")\n",
    "print(f\"📦 Archive size: {os.path.getsize(zip_filename)} bytes\")\n",
    "\n",
    "# Download the ZIP file\n",
    "files.download(zip_filename)\n",
    "print(\"🎉 ZIP archive downloaded successfully!\")\n",
    "print(\"\\n🐳 Generated using Docker-accelerated Rxiv-Maker\")"
   ]
  },
  {
   "cell_type": "markdown",
   "metadata": {
    "id": "cell-19"
   },
   "source": [
    "## 🔧 Troubleshooting"
   ]
  },
  {
   "cell_type": "code",
   "execution_count": null,
   "metadata": {
    "cellView": "form",
    "id": "cell-20"
   },
   "outputs": [],
   "source": [
    "#@title If you encounter issues, run this cell to check common problems.\n",
    "print(\"🔍 TROUBLESHOOTING CHECKLIST (Docker Version)\")\n",
    "print(\"=\" * 50)\n",
    "\n",
    "# Check Docker container\n",
    "print(\"🐳 Checking Docker container...\")\n",
    "!udocker --allow-root ps\n",
    "\n",
    "# Check required files\n",
    "print(\"\\n📁 Checking required files...\")\n",
    "required_files = [\n",
    "    PATH + os.sep + gui[\"man_name\"].value + os.sep + \"01_MAIN.md\",\n",
    "    PATH + os.sep + gui[\"man_name\"].value + os.sep + \"03_REFERENCES.bib\"\n",
    "]\n",
    "for file in required_files:\n",
    "    if os.path.exists(file):\n",
    "        print(f\"✅ {file} found\")\n",
    "    else:\n",
    "        print(f\"❌ {file} missing\")\n",
    "\n",
    "# Check Python scripts\n",
    "print(\"\\n🐍 Checking Python scripts...\")\n",
    "python_scripts = [\n",
    "    PATH + os.sep + \"src/py/commands/generate_preprint.py\",\n",
    "    PATH + os.sep + \"src/py/commands/generate_figures.py\",\n",
    "]\n",
    "for script in python_scripts:\n",
    "    if os.path.exists(script):\n",
    "        print(f\"✅ {script} found\")\n",
    "    else:\n",
    "        print(f\"❌ {script} missing\")\n",
    "\n",
    "# Check LaTeX installation in container\n",
    "print(\"\\n📝 Checking LaTeX in Docker container...\")\n",
    "!udocker --allow-root run rxiv-maker pdflatex --version | head -1\n",
    "\n",
    "# Check output directory\n",
    "print(\"\\n📂 Checking output directory...\")\n",
    "if os.path.exists(output_path):\n",
    "    print(\"✅ Output directory exists\")\n",
    "    files_in_output = os.listdir(output_path)\n",
    "    print(f\"📁 Files in output: {len(files_in_output)}\")\n",
    "\n",
    "    # Robust PDF detection for troubleshooting\n",
    "    primary_pdf_name = gui[\"man_name\"].value + \".pdf\"\n",
    "    fallback_pdf_name = \"MANUSCRIPT.pdf\"\n",
    "    primary_tex_name = gui[\"man_name\"].value + \".tex\"\n",
    "    fallback_tex_name = \"MANUSCRIPT.tex\"\n",
    "    primary_log_name = gui[\"man_name\"].value + \".log\"\n",
    "    fallback_log_name = \"MANUSCRIPT.log\"\n",
    "\n",
    "    # Check TEX files\n",
    "    if primary_tex_name in files_in_output:\n",
    "        print(f\"✅ {primary_tex_name} generated\")\n",
    "    elif fallback_tex_name in files_in_output:\n",
    "        print(f\"✅ {fallback_tex_name} generated (fallback)\")\n",
    "    else:\n",
    "        print(f\"❌ No TEX file found ({primary_tex_name} or {fallback_tex_name})\")\n",
    "\n",
    "    # Check PDF files\n",
    "    if primary_pdf_name in files_in_output:\n",
    "        print(f\"✅ {primary_pdf_name} generated\")\n",
    "    elif fallback_pdf_name in files_in_output:\n",
    "        print(f\"✅ {fallback_pdf_name} generated (fallback)\")\n",
    "    else:\n",
    "        print(f\"❌ No PDF file found ({primary_pdf_name} or {fallback_pdf_name})\")\n",
    "else:\n",
    "    print(\"❌ Output directory missing\")\n",
    "\n",
    "print(\"\\n\" + \"=\" * 50)\n",
    "print(\"If you see any ❌ errors above, please:\")\n",
    "print(\"1. Re-run the setup cells\")\n",
    "print(\"2. Check that your input files are properly formatted\")\n",
    "print(\"3. Look at the LaTeX log for compilation errors\")\n",
    "print(\"4. Verify the Docker container is running properly\")\n",
    "\n",
    "# Show recent LaTeX log if available\n",
    "log_found = False\n",
    "for log_name in [primary_log_name, fallback_log_name]:\n",
    "    log_path = os.path.join(output_path, log_name)\n",
    "    if os.path.exists(log_path):\n",
    "        print(f\"\\n📄 Recent LaTeX log from {log_name} (last 20 lines):\")\n",
    "        !tail -20 {log_path}\n",
    "        log_found = True\n",
    "        break\n",
    "\n",
    "if not log_found:\n",
    "    print(\"\\n📄 No LaTeX log files found\")"
   ]
  },
  {
   "cell_type": "markdown",
   "metadata": {
    "id": "cell-21"
   },
   "source": [
    "## 📖 Next Steps\n",
    "\n",
    "**Congratulations!** You've successfully used the Docker-accelerated Rxiv-Maker to generate a publication-ready LaTeX article.\n",
    "\n",
    "### 🐳 Docker-Accelerated Benefits:\n",
    "\n",
    "- **⚡ Faster setup**: ~2 minutes vs ~15 minutes for manual installation\n",
    "- **🔒 Reliable**: Pre-configured environment with all dependencies\n",
    "- **🔄 Consistent**: Identical results across different platforms\n",
    "- **🛡️ Isolated**: No conflicts with Google Colab's environment\n",
    "\n",
    "### What you can do next:\n",
    "\n",
    "1. **Customize your manuscript**: Edit the YAML frontmatter in your Markdown file to change title, authors, affiliations, etc.\n",
    "\n",
    "2. **Add more figures**: Create Python scripts or Mermaid diagrams in the FIGURES directory\n",
    "\n",
    "3. **Modify the LaTeX template**: The template is in `src/tex/template.tex`\n",
    "\n",
    "4. **Use locally with Docker**: Run `make pdf RXIV_ENGINE=DOCKER` on your local machine\n",
    "\n",
    "5. **Switch to local installation**: Clone the repository and run `make setup && make pdf`\n",
    "\n",
    "### Learn more:\n",
    "- [Rxiv-Maker Documentation](https://github.com/HenriquesLab/rxiv-maker)\n",
    "- [Docker Engine Mode Guide](https://github.com/HenriquesLab/rxiv-maker/blob/main/docs/workflows/docker-engine-mode.md)\n",
    "- [Markdown Guide](https://www.markdownguide.org/)\n",
    "- [LaTeX Documentation](https://www.latex-project.org/help/documentation/)\n",
    "\n",
    "### Need help?\n",
    "- Open an issue on [GitHub](https://github.com/HenriquesLab/rxiv-maker/issues)\n",
    "- Check the troubleshooting section above\n",
    "- For Docker-specific issues, see the [Docker Engine Mode Guide](https://github.com/HenriquesLab/rxiv-maker/blob/main/docs/workflows/docker-engine-mode.md)\n",
    "\n",
    "### Technical Notes:\n",
    "- This notebook uses `udocker` to run Docker containers in Google Colab\n",
    "- The `henriqueslab/rxiv-maker-base:latest` image is optimized for AMD64 but works on all platforms\n",
    "- Container includes: LaTeX, Python 3.11, R, Node.js, and all scientific libraries\n",
    "\n",
    "---\n",
    "\n",
    "*This Docker-accelerated notebook was created for the Rxiv-Maker project by the HenriquesLab.*"
   ]
  }
 ],
 "metadata": {
  "colab": {
   "provenance": []
  },
  "kernelspec": {
   "display_name": ".venv",
   "language": "python",
   "name": "python3"
  },
  "language_info": {
   "name": "python",
   "version": "3.11.11"
  }
 },
 "nbformat": 4,
 "nbformat_minor": 0
}
