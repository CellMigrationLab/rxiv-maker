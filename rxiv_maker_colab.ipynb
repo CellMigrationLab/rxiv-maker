{
 "cells": [
  {
   "cell_type": "markdown",
   "metadata": {
    "colab_type": "text",
    "id": "view-in-github"
   },
   "source": "<a href=\"https://colab.research.google.com/github/HenriquesLab/rxiv-maker/blob/main/rxiv_maker_colab.ipynb\" target=\"_parent\"><img src=\"https://colab.research.google.com/assets/colab-badge.svg\" alt=\"Open In Colab\"/></a>",
   "outputs": []
  },
  {
   "cell_type": "markdown",
   "metadata": {
    "id": "rxiv-maker-intro"
   },
   "source": "# RXiv-Maker: Automated LaTeX Article Generation\n\nThis notebook allows you to run RXiv-Maker in Google Colab to generate publication-ready LaTeX articles from Markdown manuscripts.\n\n**Features:**\n- Convert Markdown to LaTeX with academic formatting\n- Generate figures from Python scripts and Mermaid diagrams\n- Complete LaTeX compilation with bibliography\n- Download generated PDF and source files\n\n**What you'll need:**\n- Your manuscript in Markdown format with YAML metadata\n- Bibliography file (.bib)\n- Figure source files (Python scripts or Mermaid diagrams)",
   "outputs": []
  },
  {
   "cell_type": "markdown",
   "metadata": {
    "id": "setup-section"
   },
   "source": [
    "## 🚀 Setup and Installation\n",
    "\n",
    "First, let's install all the required dependencies."
   ]
  },
  {
   "cell_type": "code",
   "execution_count": null,
   "metadata": {
    "id": "install-dependencies"
   },
   "outputs": [],
   "source": [
    "# Install LaTeX distribution\n",
    "!apt-get update -qq\n",
    "!apt-get install -y texlive-latex-extra texlive-fonts-recommended texlive-bibtex-extra biber\n",
    "\n",
    "# Install Python dependencies\n",
    "!pip install matplotlib>=3.7.0 seaborn>=0.12.0 numpy>=1.24.0 pandas>=2.0.0 scipy>=1.10.0\n",
    "!pip install Pillow>=9.0.0 pypdf>=3.0.0 PyYAML>=6.0.0\n",
    "\n",
    "# Install Mermaid CLI for diagram generation\n",
    "!npm install -g @mermaid-js/mermaid-cli\n",
    "\n",
    "print(\"✅ All dependencies installed successfully!\")"
   ]
  },
  {
   "cell_type": "markdown",
   "metadata": {
    "id": "clone-section"
   },
   "source": "## 📥 Clone RXiv-Maker Repository\n\nClone the RXiv-Maker repository to access the processing scripts and templates.",
   "outputs": []
  },
  {
   "cell_type": "code",
   "metadata": {
    "id": "clone-repo"
   },
   "outputs": [],
   "source": "import os\nimport shutil\n\n# Clone the repository\nif os.path.exists(\"rxiv-maker\"):\n    shutil.rmtree(\"rxiv-maker\")\n\n!git clone https://github.com/HenriquesLab/rxiv-maker.git\n%cd rxiv-maker\n\n# Create output directory\n!mkdir -p output\n!mkdir -p output/Figures\n\nprint(\"✅ RXiv-Maker repository cloned and set up!\")\nprint(f\"Current directory: {os.getcwd()}\")\n!ls -la"
  },
  {
   "cell_type": "markdown",
   "metadata": {
    "id": "upload-section"
   },
   "source": [
    "## 📝 Upload Your Files\n",
    "\n",
    "Upload your manuscript and supporting files. You can either:\n",
    "1. Use the sample files provided in the repository, or\n",
    "2. Upload your own files using the file upload widget below\n",
    "\n",
    "**Required files:**\n",
    "- `00_ARTICLE.md` - Your manuscript with YAML frontmatter\n",
    "- `02_REFERENCES.bib` - Your bibliography\n",
    "- `FIGURES/` - Directory with figure source files (.py or .mmd)\n"
   ]
  },
  {
   "cell_type": "code",
   "execution_count": null,
   "metadata": {
    "id": "check-files"
   },
   "outputs": [],
   "source": [
    "import os\n",
    "\n",
    "from google.colab import files\n",
    "\n",
    "print(\"Current files in the repository:\")\n",
    "!ls -la\n",
    "\n",
    "print(\"\\n\" + \"=\" * 50)\n",
    "print(\"OPTION 1: Use sample files (recommended for testing)\")\n",
    "print(\"The repository already contains sample files you can use.\")\n",
    "print(\"\\nOPTION 2: Upload your own files\")\n",
    "print(\"Run the next cell to upload your manuscript and bibliography.\")\n",
    "print(\"=\" * 50)"
   ]
  },
  {
   "cell_type": "code",
   "execution_count": null,
   "metadata": {
    "id": "upload-files"
   },
   "outputs": [],
   "source": [
    "# Uncomment and run this cell to upload your own files\n",
    "\n",
    "# print(\"Upload your manuscript (00_ARTICLE.md):\")\n",
    "# uploaded = files.upload()\n",
    "# for filename in uploaded.keys():\n",
    "#     if filename.endswith('.md'):\n",
    "#         os.rename(filename, '00_ARTICLE.md')\n",
    "#         print(f\"✅ Renamed {filename} to 00_ARTICLE.md\")\n",
    "\n",
    "# print(\"\\nUpload your bibliography (02_REFERENCES.bib):\")\n",
    "# uploaded = files.upload()\n",
    "# for filename in uploaded.keys():\n",
    "#     if filename.endswith('.bib'):\n",
    "#         os.rename(filename, '02_REFERENCES.bib')\n",
    "#         print(f\"✅ Renamed {filename} to 02_REFERENCES.bib\")\n",
    "\n",
    "# print(\"\\nUpload figure source files (optional):\")\n",
    "# print(\"Upload .py or .mmd files that generate your figures\")\n",
    "# uploaded = files.upload()\n",
    "# for filename in uploaded.keys():\n",
    "#     if filename.endswith(('.py', '.mmd')):\n",
    "#         shutil.move(filename, f'FIGURES/{filename}')\n",
    "#         print(f\"✅ Moved {filename} to FIGURES/\")\n",
    "\n",
    "print(\"Using sample files from repository for demonstration.\")\n",
    "print(\"To use your own files, uncomment and run the code above.\")"
   ]
  },
  {
   "cell_type": "markdown",
   "metadata": {
    "id": "figures-section"
   },
   "source": "## 🔧 Generate Figures\n\nGenerate figures from Python scripts and Mermaid diagrams in the FIGURES directory.",
   "outputs": []
  },
  {
   "cell_type": "code",
   "execution_count": null,
   "metadata": {
    "id": "generate-figures"
   },
   "outputs": [],
   "source": [
    "# Check what figure sources we have\n",
    "print(\"Figure source files:\")\n",
    "!ls -la FIGURES/\n",
    "\n",
    "# Generate figures\n",
    "print(\"\\n\" + \"=\" * 50)\n",
    "print(\"Generating figures...\")\n",
    "print(\"=\" * 50)\n",
    "\n",
    "!python3 src/py/commands/generate_figures.py --figures-dir FIGURES --output-dir FIGURES --format png\n",
    "\n",
    "print(\"\\n✅ Figure generation completed!\")\n",
    "print(\"Generated figures:\")\n",
    "!ls -la FIGURES/*.png 2>/dev/null || echo \"No PNG files generated\"\n",
    "!ls -la FIGURES/*.pdf 2>/dev/null || echo \"No PDF files generated\""
   ]
  },
  {
   "cell_type": "markdown",
   "metadata": {
    "id": "latex-section"
   },
   "source": "## 📄 Generate LaTeX Article\n\nConvert the Markdown manuscript to LaTeX using the RXiv-Maker processing pipeline.",
   "outputs": []
  },
  {
   "cell_type": "code",
   "execution_count": null,
   "metadata": {
    "id": "generate-latex"
   },
   "outputs": [],
   "source": [
    "# Generate the LaTeX article\n",
    "print(\"Generating LaTeX article from Markdown...\")\n",
    "print(\"=\" * 50)\n",
    "\n",
    "!python3 src/py/commands/generate_preprint.py --output-dir output\n",
    "\n",
    "print(\"\\n✅ LaTeX generation completed!\")\n",
    "print(\"\\nContents of output directory:\")\n",
    "!ls -la output/"
   ]
  },
  {
   "cell_type": "markdown",
   "metadata": {
    "id": "copy-files-section"
   },
   "source": [
    "## 📚 Copy Supporting Files\n",
    "\n",
    "Copy all necessary LaTeX style files, bibliography, and figures to the output directory."
   ]
  },
  {
   "cell_type": "code",
   "execution_count": null,
   "metadata": {
    "id": "copy-files"
   },
   "outputs": [],
   "source": [
    "import glob\n",
    "import shutil\n",
    "\n",
    "print(\"Copying supporting files to output directory...\")\n",
    "print(\"=\" * 50)\n",
    "\n",
    "# Copy LaTeX style files\n",
    "style_files = glob.glob(\"src/tex/style/*\")\n",
    "for file in style_files:\n",
    "    if os.path.isfile(file):\n",
    "        shutil.copy2(file, \"output/\")\n",
    "        print(f\"✅ Copied {os.path.basename(file)}\")\n",
    "\n",
    "# Copy bibliography\n",
    "if os.path.exists(\"02_REFERENCES.bib\"):\n",
    "    shutil.copy2(\"02_REFERENCES.bib\", \"output/\")\n",
    "    print(\"✅ Copied bibliography\")\n",
    "\n",
    "# Copy figures\n",
    "figure_files = glob.glob(\"FIGURES/*\")\n",
    "for file in figure_files:\n",
    "    if os.path.isfile(file):\n",
    "        shutil.copy2(file, \"output/Figures/\")\n",
    "        print(f\"✅ Copied figure {os.path.basename(file)}\")\n",
    "\n",
    "print(\"\\n✅ All supporting files copied!\")\n",
    "print(\"\\nFinal output directory contents:\")\n",
    "!ls -la output/\n",
    "print(\"\\nFigures directory:\")\n",
    "!ls -la output/Figures/"
   ]
  },
  {
   "cell_type": "markdown",
   "metadata": {
    "id": "compile-section"
   },
   "source": [
    "## 🔨 Compile LaTeX to PDF\n",
    "\n",
    "Compile the LaTeX document to generate the final PDF. This process includes multiple passes for proper cross-references and bibliography."
   ]
  },
  {
   "cell_type": "code",
   "execution_count": null,
   "metadata": {
    "id": "compile-pdf"
   },
   "outputs": [],
   "source": [
    "# Change to output directory for compilation\n",
    "%cd output\n",
    "\n",
    "print(\"Compiling LaTeX to PDF...\")\n",
    "print(\"This may take a few minutes...\")\n",
    "print(\"=\" * 50)\n",
    "\n",
    "# First LaTeX pass\n",
    "print(\"🔄 First LaTeX pass...\")\n",
    "!pdflatex -interaction=nonstopmode ARTICLE.tex\n",
    "\n",
    "# Bibliography processing\n",
    "print(\"\\n📚 Processing bibliography...\")\n",
    "!bibtex ARTICLE\n",
    "\n",
    "# Second LaTeX pass\n",
    "print(\"\\n🔄 Second LaTeX pass...\")\n",
    "!pdflatex -interaction=nonstopmode ARTICLE.tex\n",
    "\n",
    "# Third LaTeX pass (for final cross-references)\n",
    "print(\"\\n🔄 Final LaTeX pass...\")\n",
    "!pdflatex -interaction=nonstopmode ARTICLE.tex\n",
    "\n",
    "print(\"\\n\" + \"=\" * 50)\n",
    "if os.path.exists(\"ARTICLE.pdf\"):\n",
    "    print(\"🎉 PDF compilation completed successfully!\")\n",
    "    print(f\"📄 Generated PDF: ARTICLE.pdf ({os.path.getsize('ARTICLE.pdf')} bytes)\")\n",
    "else:\n",
    "    print(\"❌ PDF compilation failed. Check the log file for errors.\")\n",
    "    print(\"\\nLaTeX log (last 50 lines):\")\n",
    "    !tail -50 ARTICLE.log\n",
    "\n",
    "# Return to main directory\n",
    "%cd .."
   ]
  },
  {
   "cell_type": "markdown",
   "metadata": {
    "id": "download-section"
   },
   "source": [
    "## 📱 Preview and Download\n",
    "\n",
    "View the generated PDF and download all output files."
   ]
  },
  {
   "cell_type": "code",
   "execution_count": null,
   "metadata": {
    "id": "preview-pdf"
   },
   "outputs": [],
   "source": [
    "import base64\n",
    "\n",
    "from IPython.display import HTML, display\n",
    "\n",
    "# Check if PDF was generated\n",
    "pdf_path = \"output/ARTICLE.pdf\"\n",
    "if os.path.exists(pdf_path):\n",
    "    print(\"📄 PDF generated successfully!\")\n",
    "\n",
    "    # Display PDF preview\n",
    "    with open(pdf_path, \"rb\") as f:\n",
    "        pdf_data = f.read()\n",
    "\n",
    "    pdf_b64 = base64.b64encode(pdf_data).decode(\"utf-8\")\n",
    "    pdf_display = f'<iframe src=\"data:application/pdf;base64,{pdf_b64}\" width=\"100%\" height=\"600px\"></iframe>'\n",
    "    display(HTML(pdf_display))\n",
    "\n",
    "    print(\"\\n\" + \"=\" * 50)\n",
    "    print(\"📥 Download your files:\")\n",
    "    print(\"1. Click the links below to download\")\n",
    "    print(\"2. Or run the next cell to download all files as ZIP\")\n",
    "    print(\"=\" * 50)\n",
    "\n",
    "else:\n",
    "    print(\"❌ PDF not found. Please check the compilation step above.\")\n",
    "    print(\"\\nAvailable files in output directory:\")\n",
    "    !ls -la output/"
   ]
  },
  {
   "cell_type": "code",
   "execution_count": null,
   "metadata": {
    "id": "download-files"
   },
   "outputs": [],
   "source": [
    "# Download individual files\n",
    "print(\"Click to download individual files:\")\n",
    "print(\"-\" * 40)\n",
    "\n",
    "# Download PDF\n",
    "if os.path.exists(\"output/ARTICLE.pdf\"):\n",
    "    files.download(\"output/ARTICLE.pdf\")\n",
    "    print(\"✅ ARTICLE.pdf downloaded\")\n",
    "\n",
    "# Download LaTeX source\n",
    "if os.path.exists(\"output/ARTICLE.tex\"):\n",
    "    files.download(\"output/ARTICLE.tex\")\n",
    "    print(\"✅ ARTICLE.tex downloaded\")\n",
    "\n",
    "print(\"\\n📦 Or download everything as ZIP:\")"
   ]
  },
  {
   "cell_type": "code",
   "metadata": {
    "id": "download-zip"
   },
   "outputs": [],
   "source": "# Create ZIP archive with all output files\nimport datetime\nimport zipfile\n\ntimestamp = datetime.datetime.now().strftime(\"%Y%m%d_%H%M%S\")\nzip_filename = f\"rxiv_maker_output_{timestamp}.zip\"\n\nwith zipfile.ZipFile(zip_filename, \"w\", zipfile.ZIP_DEFLATED) as zipf:\n    # Add all files from output directory\n    for root, dirs, files_list in os.walk(\"output\"):\n        for file in files_list:\n            file_path = os.path.join(root, file)\n            arcname = os.path.relpath(file_path, \"output\")\n            zipf.write(file_path, arcname)\n            print(f\"📁 Added to ZIP: {arcname}\")\n\nprint(f\"\\n✅ Created ZIP archive: {zip_filename}\")\nprint(f\"📦 Archive size: {os.path.getsize(zip_filename)} bytes\")\n\n# Download the ZIP file\nfiles.download(zip_filename)\nprint(\"🎉 ZIP archive downloaded successfully!\")"
  },
  {
   "cell_type": "markdown",
   "metadata": {
    "id": "troubleshooting-section"
   },
   "source": [
    "## 🔧 Troubleshooting\n",
    "\n",
    "If you encounter issues, run this cell to check common problems."
   ]
  },
  {
   "cell_type": "code",
   "execution_count": null,
   "metadata": {
    "id": "troubleshooting"
   },
   "outputs": [],
   "source": [
    "print(\"🔍 TROUBLESHOOTING CHECKLIST\")\n",
    "print(\"=\" * 50)\n",
    "\n",
    "# Check required files\n",
    "required_files = [\"00_ARTICLE.md\", \"02_REFERENCES.bib\"]\n",
    "for file in required_files:\n",
    "    if os.path.exists(file):\n",
    "        print(f\"✅ {file} found\")\n",
    "    else:\n",
    "        print(f\"❌ {file} missing\")\n",
    "\n",
    "# Check Python scripts\n",
    "python_scripts = [\n",
    "    \"src/py/commands/generate_article.py\",\n",
    "    \"src/py/commands/generate_figures.py\",\n",
    "]\n",
    "for script in python_scripts:\n",
    "    if os.path.exists(script):\n",
    "        print(f\"✅ {script} found\")\n",
    "    else:\n",
    "        print(f\"❌ {script} missing\")\n",
    "\n",
    "# Check LaTeX installation\n",
    "import subprocess\n",
    "\n",
    "try:\n",
    "    result = subprocess.run([\"pdflatex\", \"--version\"], capture_output=True, text=True)\n",
    "    if result.returncode == 0:\n",
    "        print(\"✅ pdflatex installed\")\n",
    "    else:\n",
    "        print(\"❌ pdflatex not working\")\n",
    "except FileNotFoundError:\n",
    "    print(\"❌ pdflatex not found\")\n",
    "\n",
    "# Check output directory\n",
    "if os.path.exists(\"output\"):\n",
    "    print(\"✅ Output directory exists\")\n",
    "    files_in_output = os.listdir(\"output\")\n",
    "    print(f\"📁 Files in output: {len(files_in_output)}\")\n",
    "    if \"ARTICLE.tex\" in files_in_output:\n",
    "        print(\"✅ ARTICLE.tex generated\")\n",
    "    else:\n",
    "        print(\"❌ ARTICLE.tex not found\")\n",
    "    if \"ARTICLE.pdf\" in files_in_output:\n",
    "        print(\"✅ ARTICLE.pdf generated\")\n",
    "    else:\n",
    "        print(\"❌ ARTICLE.pdf not found\")\n",
    "else:\n",
    "    print(\"❌ Output directory missing\")\n",
    "\n",
    "print(\"\\n\" + \"=\" * 50)\n",
    "print(\"If you see any ❌ errors above, please:\")\n",
    "print(\"1. Re-run the setup cells\")\n",
    "print(\"2. Check that your input files are properly formatted\")\n",
    "print(\"3. Look at the LaTeX log for compilation errors\")\n",
    "\n",
    "# Show recent LaTeX log if available\n",
    "if os.path.exists(\"output/ARTICLE.log\"):\n",
    "    print(\"\\n📄 Recent LaTeX log (last 20 lines):\")\n",
    "    !tail -20 output/ARTICLE.log"
   ]
  },
  {
   "cell_type": "markdown",
   "metadata": {
    "id": "next-steps"
   },
   "source": "## 📖 Next Steps\n\n**Congratulations!** You've successfully used RXiv-Maker to generate a publication-ready LaTeX article.\n\n### What you can do next:\n\n1. **Customize your manuscript**: Edit the YAML frontmatter in your Markdown file to change title, authors, affiliations, etc.\n\n2. **Add more figures**: Create Python scripts or Mermaid diagrams in the FIGURES directory\n\n3. **Modify the LaTeX template**: The template is in `src/tex/template.tex`\n\n4. **Use locally**: Clone the repository to your local machine for offline use\n\n### Learn more:\n- [RXiv-Maker Documentation](https://github.com/HenriquesLab/rxiv-maker)\n- [Markdown Guide](https://www.markdownguide.org/)\n- [LaTeX Documentation](https://www.latex-project.org/help/documentation/)\n\n### Need help?\n- Open an issue on [GitHub](https://github.com/HenriquesLab/rxiv-maker/issues)\n- Check the troubleshooting section above\n\n---\n\n*This notebook was created for the RXiv-Maker project by the HenriquesLab.*",
   "outputs": []
  }
 ],
 "metadata": {
  "colab": {
   "authorship_tag": "ABX9TyMxyz...",
   "include_colab_link": true,
   "private_outputs": true,
   "provenance": []
  },
  "kernelspec": {
   "display_name": "Python 3",
   "name": "python3"
  },
  "language_info": {
   "name": "python"
  }
 },
 "nbformat": 4,
 "nbformat_minor": 0
}
